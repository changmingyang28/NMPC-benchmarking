{
 "cells": [
  {
   "attachments": {
    "image.png": {
     "image/png": "[encoded data removed]"
    }
   },
   "cell_type": "markdown",
   "metadata": {},
   "source": [
    "# Cartpole optimal control problem\n",
    "\n",
    "![image.png](attachment:image.png)\n",
    "\n",
    "A cartpole is another classical example of control. In this system, an underactuated pole is attached on top of a 1D actuacted cart. The game is to raise the pole to a standing position.\n",
    "\n",
    "The model is here:\n",
    "https://en.wikipedia.org/wiki/Inverted_pendulum\n",
    "\n",
    "We denote by $m_1$ the cart mass, $m_2$ the pole mass, $l$ the pole length, $\\theta$ the pole angle w.r.t. the vertical axis, $x$ the cart position, and $g=$9.81 the gravity.\n",
    "\n",
    "The system acceleration can be rewritten as:\n",
    "\n",
    "$$\\ddot{\\theta} = \\frac{1}{\\mu(\\theta)} \\big( \\frac{\\cos \\theta}{l} f + \\frac{mg}{l} \\sin(\\theta) - m_2 \\cos(\\theta) \\sin(\\theta) \\dot{\\theta}^2\\big),$$\n",
    "\n",
    "$$\\ddot{x} = \\frac{1}{\\mu(\\theta)} \\big( f + m_2 \\cos(\\theta) \\sin(\\theta) g -m_2 l \\sin(\\theta) \\dot{\\theta} \\big),$$\n",
    "\n",
    "$\\hspace{12em}$with $$\\mu(\\theta) = m_1+m_2 \\sin(\\theta)^2,$$\n",
    "\n",
    "where $f$ represents the input command.\n"
   ]
  },
  {
   "cell_type": "markdown",
   "metadata": {},
   "source": [
    "## I. Differential Action Model\n",
    "\n",
    "A Differential Action Model (DAM) describes the action (control/dynamics) in continous-time. In this exercise, we ask you to write the equation of motions for the cartpole.\n",
    "\n",
    "For more details, see the instructions inside the DifferentialActionModelCartpole class."
   ]
  },
  {
   "cell_type": "code",
   "execution_count": 1,
   "metadata": {},
   "outputs": [],
   "source": [
    "import crocoddyl\n",
    "import pinocchio\n",
    "import numpy as np\n",
    "\n",
    "\n",
    "class DifferentialActionModelCartpole(crocoddyl.DifferentialActionModelAbstract):\n",
    "    def __init__(self):\n",
    "        crocoddyl.DifferentialActionModelAbstract.__init__(\n",
    "            self, crocoddyl.StateVector(4), 1, 6\n",
    "        )  # nu = 1; nr = 6\n",
    "        self.unone = np.zeros(self.nu)\n",
    "\n",
    "        self.m1 = 1.0\n",
    "        self.m2 = 0.1\n",
    "        self.l = 0.5\n",
    "        self.g = 9.81\n",
    "        self.costWeights = [\n",
    "            1.0,\n",
    "            1.0,\n",
    "            0.1,\n",
    "            0.001,\n",
    "            0.001,\n",
    "            1.0,\n",
    "        ]  # sin, 1-cos, x, xdot, thdot, f\n",
    "\n",
    "    def calc(self, data, x, u=None):\n",
    "        if u is None:\n",
    "            u = model.unone\n",
    "        # Getting the state and control variables\n",
    "        y, th, ydot, thdot = x[0], x[1], x[2], x[3]\n",
    "        f = u[0]\n",
    "\n",
    "        # Shortname for system parameters\n",
    "        m1, m2, l, g = self.m1, self.m2, self.l, self.g\n",
    "        s, c = np.sin(th), np.cos(th)\n",
    "\n",
    "        # Defining the equation of motions\n",
    "        m = m1 + m2\n",
    "        mu = m1 + m2 * s**2\n",
    "        xddot = (f + m2 * c * s * g - m2 * l * s * thdot**2) / mu\n",
    "        thddot = (c * f / l + m * g * s / l - m2 * c * s * thdot**2) / mu\n",
    "        data.xout = np.matrix([xddot, thddot]).T\n",
    "\n",
    "        # Computing the cost residual and value\n",
    "        data.r = np.matrix(self.costWeights * np.array([s, 1 - c, y, ydot, thdot, f])).T\n",
    "        data.cost = 0.5 * sum(np.asarray(data.r) ** 2)\n",
    "\n",
    "    def calcDiff(self, data, x, u=None):\n",
    "        # Advance user might implement the derivatives\n",
    "        pass"
   ]
  },
  {
   "cell_type": "markdown",
   "metadata": {},
   "source": [
    "You may want to check your computation. Here is how to create the model and run the calc method."
   ]
  },
  {
   "cell_type": "code",
   "execution_count": 2,
   "metadata": {},
   "outputs": [],
   "source": [
    "cartpoleDAM = DifferentialActionModelCartpole()\n",
    "cartpoleData = cartpoleDAM.createData()\n",
    "x = cartpoleDAM.state.rand()\n",
    "u = np.zeros(1)\n",
    "cartpoleDAM.calc(cartpoleData, x, u)"
   ]
  },
  {
   "cell_type": "markdown",
   "metadata": {},
   "source": [
    "## II. Write the derivatives with DAMNumDiff\n",
    "\n",
    "In the previous exercise, we didn't define the derivatives of the cartpole system. In crocoddyl, we can compute them without any additional code thanks to the DifferentialActionModelNumDiff class. This class computes the derivatives through numerical differentiation.\n",
    "\n",
    "In the following cell, you need to create a cartpole DAM that computes the derivates using NumDiff."
   ]
  },
  {
   "cell_type": "code",
   "execution_count": 3,
   "metadata": {},
   "outputs": [],
   "source": [
    "# Creating the cartpole DAM\n",
    "cartpoleND = crocoddyl.DifferentialActionModelNumDiff(cartpoleDAM, True)"
   ]
  },
  {
   "cell_type": "markdown",
   "metadata": {},
   "source": [
    "After creating your cartpole DAM with NumDiff. We would like that you answer the follows:\n",
    "\n",
    " - 2 columns of Fx are null. Wich ones? Why?\n",
    "\n",
    " - can you double check the values of Fu?\n"
   ]
  },
  {
   "cell_type": "markdown",
   "metadata": {},
   "source": [
    "## III. Integrate the model\n",
    "\n",
    "After creating DAM for the cartpole system. We need to create an Integrated Action Model (IAM). Remenber that an IAM converts the continuos-time action model into a discrete-time action model. For this exercise we'll use a simpletic Euler integrator."
   ]
  },
  {
   "cell_type": "code",
   "execution_count": 4,
   "metadata": {},
   "outputs": [],
   "source": [
    "timeStep = 5e-2\n",
    "cartpoleIAM = crocoddyl.IntegratedActionModelEuler(cartpoleND, timeStep)"
   ]
  },
  {
   "cell_type": "markdown",
   "metadata": {},
   "source": [
    "## IV. Write the problem, create the solver\n",
    "\n",
    "First, you need to describe your shooting problem. For that, you have to indicate the number of knots and their time step. For this exercise we want to use 50 knots with $dt=$5e-2.\n",
    "\n",
    "Here is how we create the problem."
   ]
  },
  {
   "cell_type": "code",
   "execution_count": 5,
   "metadata": {},
   "outputs": [],
   "source": [
    "# Fill the number of knots (T) and the time step (dt)\n",
    "x0 = np.matrix([0.0, 3.14, 0.0, 0.0]).T\n",
    "T = 50\n",
    "problem = crocoddyl.ShootingProblem(x0, [cartpoleIAM] * T, cartpoleIAM)"
   ]
  },
  {
   "cell_type": "markdown",
   "metadata": {},
   "source": [
    "Problem cannot solve, just integrate:"
   ]
  },
  {
   "cell_type": "code",
   "execution_count": 6,
   "metadata": {},
   "outputs": [],
   "source": [
    "us = [pinocchio.utils.zero(cartpoleIAM.differential.nu)] * T\n",
    "xs = problem.rollout(us)"
   ]
  },
  {
   "cell_type": "markdown",
   "metadata": {},
   "source": [
    "In cartpole_utils, we provite a plotCartpole and a animateCartpole methods."
   ]
  },
  {
   "cell_type": "code",
   "execution_count": 7,
   "metadata": {},
   "outputs": [],
   "source": [
    "%%capture\n",
    "%matplotlib inline\n",
    "from cartpole_utils import animateCartpole\n",
    "\n",
    "anim = animateCartpole(xs)\n",
    "\n",
    "# If you encounter problems probably you need to install ffmpeg/libav-tools:\n",
    "# sudo apt-get install ffmpeg\n",
    "# or\n",
    "# sudo apt-get install libav-tools"
   ]
  },
  {
   "cell_type": "markdown",
   "metadata": {},
   "source": [
    "And let's display this rollout!\n",
    "\n",
    "Note that to_jshtml spawns the video control commands."
   ]
  },
  {
   "cell_type": "code",
   "execution_count": 8,
   "metadata": {},
   "outputs": [
    {
     "data": {
      "text/html": [
       "<video width=\"640\" height=\"480\" controls autoplay loop>\n",
       "  <source type=\"video/mp4\" src=\"data:video/mp4;base64,AAAAHGZ0eXBNNFYgAAACAGlzb21pc28yYXZjMQAAAAhmcmVlAAAeOG1kYXQAAAKvBgX//6vcRem9\n",
       "5tlIt5Ys2CDZI+7veDI2NCAtIGNvcmUgMTU1IHIyOTE3IDBhODRkOTggLSBILjI2NC9NUEVHLTQg\n",
       "QVZDIGNvZGVjIC0gQ29weWxlZnQgMjAwMy0yMDE4IC0gaHR0cDovL3d3dy52aWRlb2xhbi5vcmcv\n",
       "eDI2NC5odG1sIC0gb3B0aW9uczogY2FiYWM9MSByZWY9MyBkZWJsb2NrPTE6MDowIGFuYWx5c2U9\n",
       "MHgzOjB4MTEzIG1lPWhleCBzdWJtZT03IHBzeT0xIHBzeV9yZD0xLjAwOjAuMDAgbWl4ZWRfcmVm\n",
       "PTEgbWVfcmFuZ2U9MTYgY2hyb21hX21lPTEgdHJlbGxpcz0xIDh4OGRjdD0xIGNxbT0wIGRlYWR6\n",
       "b25lPTIxLDExIGZhc3RfcHNraXA9MSBjaHJvbWFfcXBfb2Zmc2V0PS0yIHRocmVhZHM9MTUgbG9v\n",
       "a2FoZWFkX3RocmVhZHM9MiBzbGljZWRfdGhyZWFkcz0wIG5yPTAgZGVjaW1hdGU9MSBpbnRlcmxh\n",
       "Y2VkPTAgYmx1cmF5X2NvbXBhdD0wIGNvbnN0cmFpbmVkX2ludHJhPTAgYmZyYW1lcz0zIGJfcHly\n",
       "YW1pZD0yIGJfYWRhcHQ9MSBiX2JpYXM9MCBkaXJlY3Q9MSB3ZWlnaHRiPTEgb3Blbl9nb3A9MCB3\n",
       "ZWlnaHRwPTIga2V5aW50PTI1MCBrZXlpbnRfbWluPTIwIHNjZW5lY3V0PTQwIGludHJhX3JlZnJl\n",
       "c2g9MCByY19sb29rYWhlYWQ9NDAgcmM9Y3JmIG1idHJlZT0xIGNyZj0yMy4wIHFjb21wPTAuNjAg\n",
       "cXBtaW49MCBxcG1heD02OSBxcHN0ZXA9NCBpcF9yYXRpbz0xLjQwIGFxPTE6MS4wMACAAAALgWWI\n",
       "hAA///73aJ8Cm1pDeoDklcUl20+B/6tncHyP6QMAAAMAAAMAAAQwI4/0JP4fmpMAAAMARAAL4fP4\n",
       "jH5GYBP1d9eLjSnQApfAbxq6FLW3x4hJFNkWMRlgC2yXxvrZjq/ZHb/mw5Rgw4dce++A6K1pkWvn\n",
       "H8HCzsSu+Cr8aAZeypjnU43zVaJSYC6HzQTNN4UUo1EDQu+2iCK9XgZTW7N0ZPPsI8qjuxAUuuHd\n",
       "N0ON1nuoxAjwsxZSRdeZ33LigK/lYGzltbkUB9kppACOGVfAnJymLO6PePnVYwgZDLyovxcsVZKR\n",
       "9k8u3SaLWDkhRcYw8A5hd+DQ719MhPvjn7P+dfd02An22Ybo/CoUqJ2Lke/sXjEz7nz9VddHwCEw\n",
       "crxW3qk7dgCOux+krOj/fNl/pjJhhxu740vwWnnovoBmU8UIejnTjUXalcn46eeImLjkJ0PnD/sT\n",
       "7+TMWjx0EFUXEYlI/920ieOXIanCg1mveG4RKqHe1HO9c1KGwfARjjKF61wygpul5Z0Xdue5Ikd8\n",
       "T1uPK+sgNhfocGtALbkyRfIt/5iaIRDHy5gNOQGGA+PyMhjoIDOEv7VqZ/9ABoOvZzJg5qobDfSh\n",
       "kcUQXnop9kPNcBRzD+u//yQ1D7mj00UlATz1Jsg4/FqufzldaAkhcYekkfMY64YupobCe+JLHqAN\n",
       "KKavo/sWbX6CmiNJVyK4GTZCSfvqOOWryoe/OGBwqx1hlAJdmiYP2VNzHSUFvxLqeKH7VyEh7NeS\n",
       "RrxleETkJUkVUEI8apHZd03hR28Ai8Rdcm3ROQCj+Vsk5UGTPGIpCaGFPp3t4SzbgEF3YaNbb2yo\n",
       "hKDCMfxjiUO+sV9Js41hMbYvoHd5KjOthMLqWEvVwMjZM6Km/BnRorQ41jGIbDbmgJmQZ8PlzWwh\n",
       "AeKDuOMMEX1iZMj1k+p/+h+C1k1g5eCIYHl0DNvYQyJILvph0h0NZtelnrxgrQWAi6jRTBAq0S8X\n",
       "8Ji6v2/gyvoAAAMAz7mljuAWQAABBcHfPZ8ecayOTvnLwtAFP8LRtNnk9xLVONtqgVxmHtiZLuA/\n",
       "GZDfDG0O0KVLVSWG7vwyPQO2FIZZecApr8odcxmRKQKuKBDyfojw0vlpZt/fjHmGNxzWwc/SFJd5\n",
       "+xh8tIZVCXTb+VoZ1oT5emwTGneqnGlZGPiq5AAABMbDzpoFRHUN4jVAJdewJxgTkKCcKVIHLFSA\n",
       "5n0/2HnotekItwws12M6XVYUBLzBlSLFo9e3NNTaKv4vfWNN5wraLS7e6oSPKxpe9aSQ3Y0jCbSk\n",
       "ym9nkLylIbTXGEt7Ja3Rw0hEukVEExdYICl8flwwib7hWP9gWukiy6AACzZ6nu52MAYgHjrAVuIA\n",
       "B7pl1Vx8X8PLWcjUz67xtVQ2lGSr36fQOftWfSUYTYcOEKBmSxQ1Vj3OKpR9XYPhkdAz1owlhr53\n",
       "j82s90ZTvJtQgODMFVDALS1SJYvTMO/6jFlCY53PtWYaDTLdteVL/C4TSnlt90F4hwAGPw9BttmS\n",
       "+kI1iDse0IaC6i7VZsU6tPFNirZGmM35n4IRTjUe73Xv/Z+AyGxdWFwit7eXbaLWno9Rx84oJfhS\n",
       "/eSuF71dri933AFmC0+DXBUFWxa5eZctRwzwJXsN6/CQjXArOUDRhuYgIxhjeemXZw8aQrfEXxhe\n",
       "tKuVky5NYx5FNd38m3IjangbMWiZjmNF2CAFMsCC1vVq3ovRLNR30pAriCRB/TAHVCVo0SWlg5UE\n",
       "xJa74MHrLek5bv4GfUYisI5oYd89pCh3nOhrnPaIkPXbzWt/CemBSjZ2UzSgSsKZS5xNS7IlD2Dw\n",
       "XZAygPgy/V60k4BzpvlSOST5FADD6RJIuAFIfR7VykONI7wrT6KvqwXKQN4P7o/FpIWzCxepiB/Y\n",
       "S0qWWuVoZs3M/uknHugtHiKxVYVtRYNVHvoR3OqbqR75nw7r0isKbun4bCMAIRs6eBlTX/vwgg+n\n",
       "9eX8/eVB0ekbo925FD82Y0U+K+Fc8cwAcTD6TPp8FVYNm/f44/djlugAv1Hi3XZIslRlWK+mPs1S\n",
       "KkjGdBb/+zPWRND4tH9khHhlwVT9914JcV09nmVS1RY4ntOkTghi/oIXrtCDsn4y+zB08J+dDZjw\n",
       "0Hb09w2YDdNwi3FRDW/G75//7OYT3EODgbQwBEzlA6C+QjmyktxVpmhQgbkcvhXk4LexDuwgColY\n",
       "uq7da6Lyh85HG9tnHgC6Dv/cQGyNcLsS7iXNGypT61TFyTHodoF/INm3Hm7sklP/UQT8Wyk2pvH4\n",
       "ApqzWCg4yUmJ5eq/AAADAggB6Hewuz9FDpr7VrqjBrPPMO7I1+keoYuIxdQWAAGhBxaaTN4UmLli\n",
       "87lCLLjd3Jlh9yOxfuT+T1e42vWclYjbW8v1jZSE/2728z6XQwSD0YssCRYme2vSaY7X7+6yCp+Q\n",
       "WbNt0jb3eXP0uhGuzRep9nrxBgXQbUml1lEKeahR4b5HYYFWxdsxgppD3olXKXjj3R6/WsWybCd+\n",
       "6uJyND5/K0h6nWNExDXbl201MTYeBeJ6Kxp7WP/DF/5oi7lHeWhoXnr+ZsNAAv3S0QRAGN3MzYP2\n",
       "dX16k99rsMww6COYsz+OURFFppwl4DxVsHukD5jYaRYzNS4OkPgUBboS3pbinhEUm9aGn/yByYRL\n",
       "1AALR1XlvrNNLPJCAuxJqxnyATIDGuh4PLhAkJ75Jipb4C3ddAZ4TNCS+j8WLP+tJ+mrLKoEzo/p\n",
       "noHimkLbLHSNB2B2Gb/kFkmGC7UiLxEmbEDP86EU2j2lsquPpDko0ctUuBvQNGCYRdePInWIuOYF\n",
       "xrKpJsvo+rW/JDnwhgPP+nPy/YyeJNZxRcmb/nkn8eAPil1IyV9ek+Dfz4HjzmfIr/vqa93rw5Nj\n",
       "qSXEMqTzqWa/sYA8nzA5bCoD1dqmAaRgjquwNzYKq6LAtFcpT8tjvIRUbVwI9wjKlVcF9IZlod9O\n",
       "+Hcc05oYm8rzt35IG6FWIpC4I5sMzsQjVwe58Urh9inZtDzIrEsBdWdx5nRKjjfA0/O7k9lDAnBN\n",
       "kYA8g5F/iU9G7CthOPLX2nPkJrR/xHRJte2VCPVUKgMlhWZ7yzC+2NFwNkPDYOBwnPObQWAJf7xP\n",
       "A/Rmw//xND/ObctclbnLcNDOkmj+/I7cVL61qx/tzXCWoRzkb+65e9c8RF+PBntQSyEU6aHLYa5+\n",
       "t2dBfFKHVZxVXtHPWxfpop/mC1+is3PJZGfrLfvwoeJ0l+r9pwXrFbG8RH/zYaXFraD+n+zYrBAW\n",
       "mkvgqkcfhN0361m8WHFllnpbyNsBvKlQhaOiR7TxixuhWiHXiPSHhaVFybG9VQM7QcjCIubtrtaK\n",
       "wq+xRH4HCWF/BbQC3P7fFvs/DacrbtqQXNEkQYRyhpbHW30dt69wx8/G0npRVvB0vAOnMRsA8jvC\n",
       "isv6LqJ3roweUm/7LhX9jAqqEFN9pwoS7Hlr3t+y2uFLMCcgXhBqKuRdQqBhb24bMYyYnQTfz8/n\n",
       "77MkkY4C3qkqw0d1vBQ30TA/Xps3PLJMtOYfaxxvfGmjj76sVQXx+avCSzsXTOelyAtTOIgee1yT\n",
       "6c5Ya+RJrXU4QpHbqN1oaRkdyIJy41iAU31f1PoQgevNzmj/9B0LfwNat8T590xSZCD8GVjWP/IW\n",
       "jaj+wBPxkm1va/6I38s4TvN9FoiN5ClL/cf66PjIZBKvdZD5URGuMngVdWYd3RYzlh9/SA0chpyT\n",
       "mptCMhchgpSIGiPpwbgGQbHj9bFwidIjZbk7CZ1O4s20mQW7ChjCbjxmnOd70crLz+0zBnILqeW/\n",
       "APjpzwycfIgIh2vb1dZ9GrWNSjLKSDda4pbSKqGlX7LBuONhuD1PeyLMuMF/e34tyFh0ou0/QLWh\n",
       "jzrOAKPiEVG1Wav7meZI9CTkAuvTSOxSPxbrw0rcBJAAACJhAAAA30GaJGxD//6plgAMpjWYAPzG\n",
       "ld0LMGcmLZGX3Sa693gtnZetjchi9LT5kQy2+2q2+YezRQ/Yvw6Du9XwF4LSrHjFbT9IGRl8Rjq3\n",
       "S+wzg1U8URAI1yPcePhn9/bJdX53Q/h10Gv4KAmlwfHiVamYCWrU/PR7S1yB5G+dhr2ejh8p0l9U\n",
       "Cd60OK2osVM79bFEw4aobMdha7tkO91vHQgkG93L/9JfBSRShdmbwleOPRv3UksStGxtbh9G2+mw\n",
       "ZgGMDmOswJA1nO+b9Y4uZw0WVWZUOpXlfqwo1eKuKddBwu4AAAB2QZ5CeIZ/AAsSydQAtcVPdt7s\n",
       "0Pbe+ssXnDJSn9/q2Zc0YW+th7vkSTWI9xGok0HtCJ1dNSqN3pGBCZLAMjaxhLRQTFytpq8fQi4A\n",
       "7I6/w5uFj3Pv3d9z/olsh11SfwpmFn/gxvZ9jaMNqSgtDefEd5LBYsIfEQAAAC4BnmF0Qr8AFHS2\n",
       "KEfDKlXboErXLTbnjtkT12u7rQKUCzFmKAWBCMI0Cm8zMlfAAAAAJAGeY2pCvwAUevcqOc2A3/JF\n",
       "jU6Nt+2r+XoOcFQ73+aXOVTjPwAAAJZBmmhJqEFomUwIf//+qZYADKMcS8eXacI2AD7jGdMOHOeg\n",
       "dFuSDJAA/G3xeZkuXH+Vq8lFbyxz1WGR1alX9UOKbZR3s0Rmv2/r3h+DskEA3fwy2LfwhDYnnDY3\n",
       "Qacj66Tu8I4iE3k9HPJ3jxYHCoot8z9IpBAjXy64Q5Vm9JZy2BUrkXOwYCxN4nE5A8tLhhqu69VT\n",
       "is0AAABhQZ6GRREsM/8ACxuPAAnHmF6URxEXM8lGS1wYpO11e/tbrxXQibp5evCuqFLWYG+vvZcz\n",
       "kXMjywx9+2v+L6dCZQQYB/AtfGdfqdHkkVEO8CiAhshpNWjEJWnDZKaCB7ar5wAAACgBnqV0Qr8A\n",
       "FHyGRAQIKMA3Jy+yykVB4YqOpRkLN6hZqQTo70o/rqiBAAAAJQGep2pCvwAUevcvpQJ0dI3Jy98W\n",
       "+qD1wiymPSYUiTsYBG2joOAAAADeQZqsSahBbJlMCH///qmWAAyjFewSmvYAJepYv+OApcuTk41u\n",
       "eP6KgWRCoQ4+mPo06HodGEupyDrtQraf602YMk2683DoDRP/QqL6P5/caiacCTHW9obVoOr193qy\n",
       "He7HI/GKYCe4XzdLQR+NuXu2t0qZoDwvpP6tqtA5XckXzkew0JBx9FSaT4A8/ykXmEeXCuqf1Kkj\n",
       "L4SvnA8gjBriLpSlRuXrpUUv80q/es9k8qcqeHCxIZ9EuMu4LnlZst5exTZK4YRSIRZLgnWSznVq\n",
       "2uGwhSe1VehRxCkaVclIAAAATkGeykUVLDP/AAsVRO8ACG8TSEKNvMmkGt7mXsOBAM9t+8Fqu/hK\n",
       "ap1HPAt7sTCAZJb+lcFzyU6RyRg4JFr01vpXVe0TJv4uKCg5fTqYsQAAACkBnul0Qr8AFHS2QT/c\n",
       "kgrDc4wNjcrYl5G8cR0thhEflPvS7+PZdX9JwAAAACEBnutqQr8AFHaJyGlAHowQqIgTk9v0AeTF\n",
       "Kjjjqaowj4AAAABkQZrwSahBbJlMCH///qmWAAyi3cCKZgA2Tyeh6waSgGVdohy9Oka4KuSlg6Yg\n",
       "0EhtMG6ZXdp1gS6sqHgy82Qus8SEH/Zs0H5FekWRRcNR5Njfis04aP8mpALr/kFK2j7UEAAXcQAA\n",
       "AFVBnw5FFSwz/wAK7n/4u3I+AAnCpb//f9SC/kqvgoJytxXu7IF5j7TWV1177rXdqjXZ7P9YBQZ4\n",
       "6PKgsdBbChgAFOXJNQHaavluoTOwQJGSDir4BQYNAAAAHAGfLXRCvwAUdLYoR72CBNHxhd47oA8/\n",
       "XlBr11EAAAAcAZ8vakK/ABR2iclu9ggTR8MhGt0AektVjeh3QAAAALZBmzRJqEFsmUwIf//+qZYA\n",
       "DPMvpGE7RqawA43ztFL9lPnlt46U9BeI6wVxywh1293R0TMZy6YsL96Gw86m7WPcjqb67tfseSzI\n",
       "llUO4TdKfu24aBNI7zVQZN1Sfg89//mO+WEH27s/+buT8LX8hTYCKI/aWbI9RKtcPpK/m1Z7Kg5+\n",
       "fHaHfe+AO59PF5ghcEzAvFLsXNM8IHfkG8GRCu58IiP5Sbxsos+S5P+WbNA4lR3rt/6ZeAAAAE5B\n",
       "n1JFFSwz/wALXALU1u1AAa5VhRBi4aqbKJuciF1KGbIHaTZiMXPHu4A4fvqKdHzRzxhqITu+tcYA\n",
       "nYf9G4J5kZxCsSq9zUpbPQKGhYEAAAAgAZ9xdEK/ABR8hkQECCi/0zVMRw/EkUz7oOy6Sg1+uoAA\n",
       "AAAhAZ9zakK/ABUK9yo5zYDasRwxtagtiLsJVi4dJ6SnxNFwAAAAqEGbeEmoQWyZTAh///6plgAM\n",
       "pO6sAH5jSu+xuoRMAdVvB7rq8Sw3m3dBIL+6bkZFOhvcgCxc0ibU/ir6tYW203LVdFkfs/t6hfNE\n",
       "eI3gG9WAC7kO4EGsBgJqQC6/6W520fasAl6y1FNXZxflrR90vhK44Stqop8CpGr9VYU94ikZywWL\n",
       "AuNGCFxd8vR+bCgeUSzOyeDFRsCoUiVSK2lIJaGLEoBXdqmreQAAAGVBn5ZFFSwz/wAK7oEvw3KQ\n",
       "AJkxcKlwhpQhGTejPR0curOjoCV5hwHBQwMSIwoIwmUDG11WZnn95rT6DXHbIDrvvCN1ZgdD1rRY\n",
       "fMBkgvuv9GRzxpqMNheDTfCZthTI385jgrxQ/wAAACMBn7V0Qr8AFHS2KEe9ggTR8YXeO/KRZc8M\n",
       "1yRzoZfhkV+ldwAAACIBn7dqQr8AFHr3KjmdsBQ/KMdTv3vKiCRPGkQBMhwHypR9AAAAXEGbvEmo\n",
       "QWyZTAh///6plgAMowGnDvl6zvYAJh7iPtottz6Jm9pdVgwjfYv1AYOgllpSekVCvAVYeMaqzHRs\n",
       "IRGcqT9Wxk9po92YikNcwsvVn6ZQAT/6eSxAAH+AAAAAZkGf2kUVLDP/AArugQUVABycm2s3uDYi\n",
       "zKzRjHzyV8IZHR3tNhBlqj/4MDyj+Spc0HdaaC/eVNxghVaf6H3wCAvF5x5qb9DBbGSh/j8WU03r\n",
       "8Jq+/Rkp3lx4egBMxhhZjytwKgJT8wAAACYBn/l0Qr8AFHyGQ7tFYkQn3aGTWKBnotAoL7gRDmnN\n",
       "cUezHU6TgAAAACQBn/tqQr8AFHaJ5pQJ1b1lvjLqgLBivOSBTknj93XFDYtQcr8AAACpQZvgSahB\n",
       "bJlMCH///qmWAAyjFo+tShFgA/OWTlmyXq6pT3gdBVkllXgeztyCtYgmU9HUmoe3N7qmyAZCLTt2\n",
       "6DNpGykkOatyPC/nqnkTMIw1NLhhozIcuGwzcovO/Rx8Bp8P6v83YiZwMIqsr5JHKvSG67c8Gt8D\n",
       "xKhPrDQIGs5WX0QdSNC9xxUgLN9PFgODr02l6gUU97x5FdrYyhe9x1puPToX0HbHZQAAAERBnh5F\n",
       "FSwz/wALBAFq3wAU/xfmo4CEb50NW4QAunPGLQVaCILD0qdGTVP6agQ7zFxV/v6+k8So+giwtoWc\n",
       "XJMFN0ALKAAAAB0Bnj10Qr8AFHyGRAQIKL/TNUxHCCCboYmlM2twEAAAAB8Bnj9qQr8AFHaJyWcY\n",
       "xWI0fj32GPzoJBU3/prMslLhAAAAk0GaJEmoQWyZTAh///6plgAMpO6sAGykBQ9kuh0sLqXEZjlh\n",
       "LZkeFe1vev/BiqFPnxgJ+k3lUq9M/q1ETTt0/ozbTjnGW65xAa53LReRBicRmCX7JBAN38MtivhU\n",
       "zlRo0aekG6HdivTH84j9yHemCixZHbb5gfvnDo/MTOdLEl2wZGHBPT1hyXolwfBJQ8VnjyV94AAA\n",
       "AFdBnkJFFSwz/wAK7n/Kuo6ceAAdWnL/9/0u3sF6++aW9lMlVktqYW7INbmLR1t+emNFFUgtK0ys\n",
       "//ekKVacmn5JMGhYKqS+Q/QIhZeLIVkxyzpPEouABF0AAAAjAZ5hdEK/ABR8hjP8pgVgxqCBBGkq\n",
       "nUDyKG0tH1UAVjuxgAQAAAAiAZ5jakK/ABR2iclnGMVgxs5aFX0VuvfGK9N/XydORZYKkwAAAPRB\n",
       "mmhJqEFsmUwId//+qZYADPTGOAEWhKVnoRBZgQYEVax1Jw4vI7EJ70FLLgodlb3j/+V88rXTV+wz\n",
       "LZwTBifP+C8lHX7hnbzRdhee4h699cvR+MsDJ1OzWa2aACwJSTzqZJsBFseZco21LqEMKl95w3U3\n",
       "pH+4A4pGVS8xFuBbeGeZ5vbCOky2skSxllyru6MHLeZhPfysIwnq5McbRZIDSaURhAoabKE0cNP1\n",
       "SIBifjw6M8kyqe0EWPnkDt/4g8hS+Er1AVBUoLTcqVYInWrP3HaAWS2RDRnBHhzko3uti6EF16Bj\n",
       "yVuoMw22fvgVrvtN0hBBAAAAV0GehkUVLDP/AAtcBP7dACUSGFGGJb2ibu8+nB4lyMh5Nmx9GGXm\n",
       "xI8v3GHAd+irhh+L0mI7oLP6mrXbIL/X8NUOAAX/O8W+7W2XlT4MVGfazXriBIhQwQAAACABnqV0\n",
       "Qr8AFHS2NNooMF54sw/NxNAXW8+cUSdMnPfKPwAAAB4BnqdqQr8AFQr3KjGmZFQIG52+UMBr+5d0\n",
       "y8ThS4AAAABmQZqsSahBbJlMCHf//qmWAAyo2JcAEN/kvsI50HShSd9GmfIZQQGmjcdO3ga2iPBn\n",
       "fwX2UftyeOeTGf/EiDsGSl5cFypLREClzUrVPthW9TAW4mge31eAAn/2D2oA8lvD8Rc/YkFgAAAA\n",
       "XEGeykUVLDP/AArugS/FtPAAhrFvbqX+1i0wnscSIjMTuJjyAime89PbApZdg1GBrOs7xfHM+LSe\n",
       "2wcE9QmhrFVaFx+FjbQlgtb86mJBEouwwggvhEeNC/whRcbBAAAAHAGe6XRCvwAUfIY0A7IB8Oiv\n",
       "ZBBM0HqcICWLIjgAAAAcAZ7rakK/ABR69yo5zYBOjv/FgmMkOFkEBJOJUgAAAGhBmvBJqEFsmUwI\n",
       "Z//+nhAAYckD22TONSPwAIXyuFHXZ2tX8pSlL5GgyopCtb5oWNRnjB30nVppKPvC8C3nd0fv2+/1\n",
       "gEW+xywj3WlIqOCCQuKaK0KlSSzjaCExVlLkyJ4fbcPj8qe07QAAAElBnw5FFSwz/wAK8IccAB1o\n",
       "z/EF4u4+OltO2uW3gd3Zs3lgx5ApsQOUuQX9wR30hLTAQENd4oB+ojWeFPA4KEERaXzwqwiP5NuB\n",
       "AAAAHgGfLXRCvwAUfIZB8xqgP0WZhQRTOv6k395+vYZyOQAAABwBny9qQr8AFHaJ5AugwXnizCgM\n",
       "QnSXLicGOdyoAAAAV0GbMkmoQWyZTBRMK//+OEABfaLngANiva6pEbdFS1XwQpPAnfQXiVQLytqe\n",
       "/01/k/tm3kgCE/SVs0uilYHsJ8j7ukj+hNQjh2ilyOhFuY1KO1UdfvL7QAAAAB4Bn1FqQr8AFHaJ\n",
       "5pQDa+pkMlrLPFWF0SXred8Wh4EAAAWSbW9vdgAAAGxtdmhkAAAAAAAAAAAAAAAAAAAD6AAACfYA\n",
       "AQAAAQAAAAAAAAAAAAAAAAEAAAAAAAAAAAAAAAAAAAABAAAAAAAAAAAAAAAAAABAAAAAAAAAAAAA\n",
       "AAAAAAAAAAAAAAAAAAAAAAAAAAAAAgAABLx0cmFrAAAAXHRraGQAAAADAAAAAAAAAAAAAAABAAAA\n",
       "AAAACfYAAAAAAAAAAAAAAAAAAAAAAAEAAAAAAAAAAAAAAAAAAAABAAAAAAAAAAAAAAAAAABAAAAA\n",
       "AoAAAAHgAAAAAAAkZWR0cwAAABxlbHN0AAAAAAAAAAEAAAn2AAAEAAABAAAAAAQ0bWRpYQAAACBt\n",
       "ZGhkAAAAAAAAAAAAAAAAAAAoAAAAZgBVxAAAAAAALWhkbHIAAAAAAAAAAHZpZGUAAAAAAAAAAAAA\n",
       "AABWaWRlb0hhbmRsZXIAAAAD321pbmYAAAAUdm1oZAAAAAEAAAAAAAAAAAAAACRkaW5mAAAAHGRy\n",
       "ZWYAAAAAAAAAAQAAAAx1cmwgAAAAAQAAA59zdGJsAAAAs3N0c2QAAAAAAAAAAQAAAKNhdmMxAAAA\n",
       "AAAAAAEAAAAAAAAAAAAAAAAAAAAAAoAB4ABIAAAASAAAAAAAAAABAAAAAAAAAAAAAAAAAAAAAAAA\n",
       "AAAAAAAAAAAAAAAAAAAAGP//AAAAMWF2Y0MBZAAe/+EAGGdkAB6s2UCgPaEAAAMAAQAAAwAoDxYt\n",
       "lgEABmjr48siwAAAABx1dWlka2hA8l8kT8W6OaUbzwMj8wAAAAAAAAAYc3R0cwAAAAAAAAABAAAA\n",
       "MwAAAgAAAAAUc3RzcwAAAAAAAAABAAAAAQAAAahjdHRzAAAAAAAAADMAAAABAAAEAAAAAAEAAAoA\n",
       "AAAAAQAABAAAAAABAAAAAAAAAAEAAAIAAAAAAQAACgAAAAABAAAEAAAAAAEAAAAAAAAAAQAAAgAA\n",
       "AAABAAAKAAAAAAEAAAQAAAAAAQAAAAAAAAABAAACAAAAAAEAAAoAAAAAAQAABAAAAAABAAAAAAAA\n",
       "AAEAAAIAAAAAAQAACgAAAAABAAAEAAAAAAEAAAAAAAAAAQAAAgAAAAABAAAKAAAAAAEAAAQAAAAA\n",
       "AQAAAAAAAAABAAACAAAAAAEAAAoAAAAAAQAABAAAAAABAAAAAAAAAAEAAAIAAAAAAQAACgAAAAAB\n",
       "AAAEAAAAAAEAAAAAAAAAAQAAAgAAAAABAAAKAAAAAAEAAAQAAAAAAQAAAAAAAAABAAACAAAAAAEA\n",
       "AAoAAAAAAQAABAAAAAABAAAAAAAAAAEAAAIAAAAAAQAACgAAAAABAAAEAAAAAAEAAAAAAAAAAQAA\n",
       "AgAAAAABAAAKAAAAAAEAAAQAAAAAAQAAAAAAAAABAAACAAAAAAEAAAYAAAAAAQAAAgAAAAAcc3Rz\n",
       "YwAAAAAAAAABAAAAAQAAADMAAAABAAAA4HN0c3oAAAAAAAAAAAAAADMAAA44AAAA4wAAAHoAAAAy\n",
       "AAAAKAAAAJoAAABlAAAALAAAACkAAADiAAAAUgAAAC0AAAAlAAAAaAAAAFkAAAAgAAAAIAAAALoA\n",
       "AABSAAAAJAAAACUAAACsAAAAaQAAACcAAAAmAAAAYAAAAGoAAAAqAAAAKAAAAK0AAABIAAAAIQAA\n",
       "ACMAAACXAAAAWwAAACcAAAAmAAAA+AAAAFsAAAAkAAAAIgAAAGoAAABgAAAAIAAAACAAAABsAAAA\n",
       "TQAAACIAAAAgAAAAWwAAACIAAAAUc3RjbwAAAAAAAAABAAAALAAAAGJ1ZHRhAAAAWm1ldGEAAAAA\n",
       "AAAAIWhkbHIAAAAAAAAAAG1kaXJhcHBsAAAAAAAAAAAAAAAALWlsc3QAAAAlqXRvbwAAAB1kYXRh\n",
       "AAAAAQAAAABMYXZmNTguMjkuMTAw\n",
       "\">\n",
       "  Your browser does not support the video tag.\n",
       "</video>"
      ],
      "text/plain": [
       "<IPython.core.display.HTML object>"
      ]
     },
     "execution_count": 8,
     "metadata": {},
     "output_type": "execute_result"
    }
   ],
   "source": [
    "from IPython.display import HTML\n",
    "\n",
    "# HTML(anim.to_jshtml())\n",
    "HTML(anim.to_html5_video())"
   ]
  },
  {
   "cell_type": "markdown",
   "metadata": {},
   "source": [
    "Now we want to create the solver (SolverDDP class) and run it. Display the result. **Do you like it?**"
   ]
  },
  {
   "cell_type": "code",
   "execution_count": 9,
   "metadata": {},
   "outputs": [
    {
     "ename": "SyntaxError",
     "evalue": "Missing parentheses in call to 'print'. Did you mean print(done)? (1017360701.py, line 7)",
     "output_type": "error",
     "traceback": [
      "\u001b[0;36m  Cell \u001b[0;32mIn[9], line 7\u001b[0;36m\u001b[0m\n\u001b[0;31m    print done\u001b[0m\n\u001b[0m          ^\u001b[0m\n\u001b[0;31mSyntaxError\u001b[0m\u001b[0;31m:\u001b[0m Missing parentheses in call to 'print'. Did you mean print(done)?\n"
     ]
    }
   ],
   "source": [
    "# Creating the DDP solver\n",
    "ddp = crocoddyl.SolverDDP(problem)\n",
    "ddp.setCallbacks([crocoddyl.CallbackVerbose()])\n",
    "\n",
    "# Solving this problem\n",
    "done = ddp.solve([], [], 1000)\n",
    "print done\n",
    "print ddp.us"
   ]
  },
  {
   "cell_type": "code",
   "execution_count": null,
   "metadata": {
    "scrolled": true
   },
   "outputs": [],
   "source": [
    "%%capture\n",
    "%matplotlib inline\n",
    "\n",
    "# Create animation\n",
    "anim = animateCartpole(ddp.xs)"
   ]
  },
  {
   "cell_type": "code",
   "execution_count": null,
   "metadata": {},
   "outputs": [],
   "source": [
    "# HTML(anim.to_jshtml())\n",
    "HTML(anim.to_html5_video())"
   ]
  },
  {
   "cell_type": "markdown",
   "metadata": {},
   "source": [
    "## Tune the problem, solve it\n",
    "\n",
    "Give some indication about what should be tried for solving the problem.\n",
    "\n",
    "\n",
    " - Without a terminal model, we can see some swings but we cannot stabilize. What should we do?\n",
    "\n",
    " - The most important is to reach the standing position. Can we also nullify the velocity?\n",
    "\n",
    " - Increasing all the weights is not working. How to slowly increase the penalty?\n",
    "\n"
   ]
  },
  {
   "cell_type": "code",
   "execution_count": null,
   "metadata": {},
   "outputs": [],
   "source": [
    "###########################################################################\n",
    "################## TODO: Tune the weights for each cost ###################\n",
    "###########################################################################\n",
    "terminalCartpole = DifferentialActionModelCartpole()\n",
    "terminalCartpoleDAM = crocoddyl.DifferentialActionModelNumDiff(terminalCartpole, True)\n",
    "terminalCartpoleIAM = crocoddyl.IntegratedActionModelEuler(terminalCartpoleDAM)\n",
    "\n",
    "terminalCartpole.costWeights[0] = 100\n",
    "terminalCartpole.costWeights[1] = 100\n",
    "terminalCartpole.costWeights[2] = 1.0\n",
    "terminalCartpole.costWeights[3] = 0.1\n",
    "terminalCartpole.costWeights[4] = 0.01\n",
    "terminalCartpole.costWeights[5] = 0.0001\n",
    "problem = crocoddyl.ShootingProblem(x0, [cartpoleIAM] * T, terminalCartpoleIAM)"
   ]
  },
  {
   "cell_type": "code",
   "execution_count": null,
   "metadata": {},
   "outputs": [],
   "source": [
    "# Creating the DDP solver\n",
    "ddp = crocoddyl.SolverDDP(problem)\n",
    "ddp.setCallbacks([ crocoddyl.CallbackVerbose() ])\n",
    "\n",
    "# Solving this problem\n",
    "done = ddp.solve([], [], 300)\n",
    "print done"
   ]
  },
  {
   "cell_type": "code",
   "execution_count": null,
   "metadata": {},
   "outputs": [],
   "source": [
    "%%capture\n",
    "%matplotlib inline\n",
    "\n",
    "# Create animation\n",
    "anim = animateCartpole(ddp.xs)"
   ]
  },
  {
   "cell_type": "code",
   "execution_count": null,
   "metadata": {
    "scrolled": true
   },
   "outputs": [],
   "source": [
    "# HTML(anim.to_jshtml())\n",
    "HTML(anim.to_html5_video())"
   ]
  }
 ],
 "metadata": {
  "kernelspec": {
   "display_name": "Python 3",
   "language": "python",
   "name": "python3"
  },
  "language_info": {
   "codemirror_mode": {
    "name": "ipython",
    "version": 3
   },
   "file_extension": ".py",
   "mimetype": "text/x-python",
   "name": "python",
   "nbconvert_exporter": "python",
   "pygments_lexer": "ipython3",
   "version": "3.8.10"
  }
 },
 "nbformat": 4,
 "nbformat_minor": 2
}
